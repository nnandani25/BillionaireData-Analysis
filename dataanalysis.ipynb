{
 "cells": [
  {
   "cell_type": "markdown",
   "metadata": {},
   "source": [
    "# Billionaires By Country\n",
    "Goal:"
   ]
  },
  {
   "cell_type": "markdown",
   "metadata": {},
   "source": []
  },
  {
   "cell_type": "markdown",
   "metadata": {},
   "source": [
    "## 1. Import Libraries"
   ]
  },
  {
   "cell_type": "code",
   "execution_count": null,
   "metadata": {},
   "outputs": [],
   "source": [
    "import pandas as pd\n",
    "import matplotlib.pyplot as plt\n",
    "import seaborn as sns"
   ]
  },
  {
   "cell_type": "markdown",
   "metadata": {},
   "source": [
    "## 2. Load the Dataset "
   ]
  },
  {
   "cell_type": "code",
   "execution_count": null,
   "metadata": {},
   "outputs": [],
   "source": [
    "df = pd.read_csv(\"data/billionaires-by-country-2024.csv\")"
   ]
  },
  {
   "cell_type": "markdown",
   "metadata": {},
   "source": [
    "## 3. Understanding the Data"
   ]
  },
  {
   "cell_type": "code",
   "execution_count": null,
   "metadata": {},
   "outputs": [],
   "source": [
    "df.info()\n",
    "df.columns\n",
    "df.shape"
   ]
  },
  {
   "cell_type": "markdown",
   "metadata": {},
   "source": [
    "## 4. Cleaning/Preparing Data"
   ]
  },
  {
   "cell_type": "markdown",
   "metadata": {},
   "source": [
    "#### 4.1 Dropping Columns"
   ]
  },
  {
   "cell_type": "code",
   "execution_count": null,
   "metadata": {},
   "outputs": [],
   "source": [
    "# Dropping population_growthRate, and population_density_km\n",
    "df = df[['population_2024', 'Country_land_area',\n",
    "       'country', 'region', 'unMember', 'Population_growthRate',\n",
    "       'population_densityMi', 'BillionairesRichestBillionaire2023',\n",
    "       'BillionairesRichestNetWorth2023', 'BillionairesPerMillionPeople2023',\n",
    "       'BillionairesTotalNetWorth2023']]\n",
    "\n",
    "df.shape\n"
   ]
  },
  {
   "cell_type": "markdown",
   "metadata": {},
   "source": [
    "#### 4.2 Renaming Columns"
   ]
  },
  {
   "cell_type": "code",
   "execution_count": null,
   "metadata": {},
   "outputs": [],
   "source": [
    "# Rename our columns for consistency\n",
    "# THe standard year will be 2023, so anything that is not in 2023 will include a year \n",
    "df = df.rename(columns={'population_2024':'Population_2024',\n",
    "                   'Country_land_area':'Land_Area',\n",
    "                   'country':'Country',\n",
    "                   'population_densityMi': 'Population_Density',\n",
    "                    'Population_growthRate' : 'Population_GrowthRate',\n",
    "                   'region': 'Region',\n",
    "                   'unMember':'UnMember',\n",
    "                   'BillionairesRichestBillionaire2023':'Name',\n",
    "                   'BillionairesRichestNetWorth2023':'NetWorth',\n",
    "                   'BillionairesPerMillionPeople2023':'PerMillionPeople',\n",
    "                   'BillionairesTotalNetWorth2023':'TotalWorth'})"
   ]
  },
  {
   "cell_type": "markdown",
   "metadata": {},
   "source": [
    "#### 4.3 Checking for Duplicates"
   ]
  },
  {
   "cell_type": "code",
   "execution_count": null,
   "metadata": {},
   "outputs": [],
   "source": [
    "df.duplicated().sum()"
   ]
  },
  {
   "cell_type": "markdown",
   "metadata": {},
   "source": [
    "#### 4.4 Checking for Null Values"
   ]
  },
  {
   "cell_type": "code",
   "execution_count": null,
   "metadata": {},
   "outputs": [],
   "source": [
    "# Percent of null values for each column\n",
    "df.isna().sum() / df.shape[0] * 100"
   ]
  },
  {
   "cell_type": "markdown",
   "metadata": {},
   "source": [
    "Because less than 10% of the values are null in each column, I will not drop any of the columns."
   ]
  },
  {
   "cell_type": "markdown",
   "metadata": {},
   "source": [
    "#### 4.5 Sorting the Data"
   ]
  },
  {
   "cell_type": "code",
   "execution_count": null,
   "metadata": {},
   "outputs": [],
   "source": [
    "# Sorting the data by having the richest first\n",
    "df = df.sort_values(\"NetWorth\", ascending = False)"
   ]
  },
  {
   "cell_type": "code",
   "execution_count": null,
   "metadata": {},
   "outputs": [],
   "source": []
  },
  {
   "cell_type": "markdown",
   "metadata": {},
   "source": [
    "## 5. Univariate Analysis"
   ]
  },
  {
   "cell_type": "markdown",
   "metadata": {},
   "source": [
    "#### 5.1 Numerical Data"
   ]
  },
  {
   "cell_type": "code",
   "execution_count": null,
   "metadata": {},
   "outputs": [],
   "source": [
    "# Boxplot for the net worth of the billionaires\n",
    "sns.boxplot(data=df, x=\"NetWorth\")\n",
    "plt.xlim(0,215)\n",
    "\n",
    "# Finding the data for the person with the highest and lowest net worth\n",
    "df.loc[df[\"NetWorth\"] == df[\"NetWorth\"].max()]\n",
    "df.loc[df[\"NetWorth\"] == df[\"NetWorth\"].min()]"
   ]
  },
  {
   "cell_type": "markdown",
   "metadata": {},
   "source": [
    "##### MEANING!!!!!?????"
   ]
  },
  {
   "cell_type": "code",
   "execution_count": null,
   "metadata": {},
   "outputs": [],
   "source": [
    "# Boxplot for the total worth of the billionaires\n",
    "sns.boxplot(data=df, x=\"TotalWorth\")\n",
    "plt.xlim(-100,1680)\n",
    "\n",
    "# Finding the data for the person with the highest and lowest total worth\n",
    "df.loc[df[\"TotalWorth\"] == df[\"TotalWorth\"].max()]\n",
    "df.loc[df[\"TotalWorth\"] == df[\"TotalWorth\"].min()]"
   ]
  },
  {
   "cell_type": "markdown",
   "metadata": {},
   "source": [
    "##### MEANING!!!?????"
   ]
  },
  {
   "cell_type": "markdown",
   "metadata": {},
   "source": [
    "Because multiple people have the same minimum worth, I will check to see how many people have the same TotalWorth values."
   ]
  },
  {
   "cell_type": "code",
   "execution_count": null,
   "metadata": {},
   "outputs": [],
   "source": [
    "# Sorts by the values that are most common\n",
    "df['TotalWorth'].value_counts(ascending=False)\n"
   ]
  },
  {
   "cell_type": "markdown",
   "metadata": {},
   "source": [
    "#### 5.2 Catergorical Data"
   ]
  },
  {
   "cell_type": "code",
   "execution_count": null,
   "metadata": {},
   "outputs": [],
   "source": [
    "# Checking how many of each country there are to see if the information can be useful to me\n",
    "df['Country'].value_counts()"
   ]
  },
  {
   "cell_type": "code",
   "execution_count": null,
   "metadata": {},
   "outputs": [],
   "source": [
    "# Checking how many of each region there are to see if the information can be useful to me\n",
    "df['Region'].value_counts()"
   ]
  },
  {
   "cell_type": "code",
   "execution_count": null,
   "metadata": {},
   "outputs": [],
   "source": [
    "# Finding the region with the most rich people \n",
    "plt.figure(figsize=(8,5))\n",
    "plt.title(\"Amount of Billionaires by Region\")\n",
    "sns.histplot(data=df, x=\"Region\", binwidth=20)"
   ]
  },
  {
   "cell_type": "markdown",
   "metadata": {},
   "source": [
    "This graph shows the amount of billionaires that live in each region. It shows that most of the billionaires live in Europe and Asia, and the least amount of billionaires live in Oceania. However, it should be noted that there are most likely less people living in Oceania than Europe."
   ]
  },
  {
   "cell_type": "code",
   "execution_count": null,
   "metadata": {},
   "outputs": [],
   "source": [
    "df['UnMember'].value_counts()"
   ]
  },
  {
   "cell_type": "code",
   "execution_count": null,
   "metadata": {},
   "outputs": [],
   "source": [
    "# I learned how to make a pie chart from Geeks for Geeks (https://www.geeksforgeeks.org/how-to-create-a-pie-chart-in-seaborn/) and the code\n",
    "# is the same, I just added in my own data.\n",
    "\n",
    "# Makes a pie chart of the percent of people that are vs. are not UnMembers\n",
    "# Catergorical because it is True/False data\n",
    "plt.figure(figsize=(50,8))\n",
    "plt.title(\"Percent of UnMembers\")\n",
    "\n",
    "# These data numbers are taken from the value_counts of UnMembers shown above\n",
    "data = [74,4]\n",
    "keys = ['UnMember', 'Not a UnMember']\n",
    "explode = [0, 0.1] \n",
    "palette_color = sns.color_palette('bright')\n",
    "plt.pie(data,labels=keys, colors=palette_color, explode=explode, autopct='%.0f%%')\n",
    "plt.show()"
   ]
  },
  {
   "cell_type": "markdown",
   "metadata": {},
   "source": [
    "This pie chart shows that the majority of people are a member of the UN, but it should be considered that this seems like a lot, but I do not have that much data."
   ]
  },
  {
   "cell_type": "markdown",
   "metadata": {},
   "source": [
    "#### 5.3 Multiple Plots"
   ]
  },
  {
   "cell_type": "markdown",
   "metadata": {},
   "source": [
    "##### WORK!!!???"
   ]
  },
  {
   "cell_type": "code",
   "execution_count": null,
   "metadata": {},
   "outputs": [],
   "source": [
    "# Set Seaborn style\n",
    "sns.set_style(\"darkgrid\")\n",
    "\n",
    "# Identify numerical columns\n",
    "numerical_columns = df.select_dtypes(\"number\").columns\n",
    "\n",
    "# Plot distribution of each numerical feature\n",
    "plt.figure(figsize=(14, len(numerical_columns) * 3))\n",
    "for idx, feature in enumerate(numerical_columns, 1):\n",
    "\tplt.subplot(len(numerical_columns), 2, idx)\n",
    "\t\n",
    "\t# Kernel density plot\n",
    "\tsns.histplot(df[feature], kde=True)\n",
    "\tplt.title(f\"{feature} | Skewness: {round(df[feature].skew(), 2)}\")\n",
    "\n",
    "# Adjust layout and show plots\n",
    "plt.tight_layout()\n",
    "plt.show()"
   ]
  },
  {
   "cell_type": "markdown",
   "metadata": {},
   "source": [
    "## 6. Multivariate Analysis"
   ]
  },
  {
   "cell_type": "markdown",
   "metadata": {},
   "source": [
    "#### 6.1 Two Variables"
   ]
  },
  {
   "cell_type": "code",
   "execution_count": null,
   "metadata": {},
   "outputs": [],
   "source": [
    "plt.figure(figsize=(16,8))\n",
    "plt.title(\"Amount of Billionaires by Population Density\")\n",
    "sns.histplot(data=df, x=\"Region\", y =\"Population_Density\", binwidth=800)"
   ]
  },
  {
   "cell_type": "markdown",
   "metadata": {},
   "source": [
    "# Interpreting Data"
   ]
  },
  {
   "cell_type": "code",
   "execution_count": null,
   "metadata": {},
   "outputs": [],
   "source": [
    "# Finding the region with the most rich people \n",
    "plt.figure(figsize=(8,5))\n",
    "plt.title(\"Amount of Billionaires by Region\")\n",
    "sns.histplot(data=df, x=\"Region\", binwidth=20)"
   ]
  },
  {
   "cell_type": "markdown",
   "metadata": {},
   "source": [
    "I can't get a true interpretation of this data without figuring out the average population per region."
   ]
  },
  {
   "cell_type": "code",
   "execution_count": null,
   "metadata": {},
   "outputs": [],
   "source": [
    "# sns.scatterplot(data=graph, x=\"Region\", y=\"Population_Density\")"
   ]
  },
  {
   "cell_type": "code",
   "execution_count": null,
   "metadata": {},
   "outputs": [],
   "source": [
    "# Divide the number of milionaires by population density to find the number of millionaires per miles by region\n",
    "df['Region'].value_counts()"
   ]
  },
  {
   "cell_type": "code",
   "execution_count": null,
   "metadata": {},
   "outputs": [],
   "source": [
    "plt.figure(figsize=(16,8))\n",
    "plt.title(\"Amount of Billionaires by Population Density\")\n",
    "sns.histplot(data=df, x=\"Population_Density\", binwidth=800)"
   ]
  },
  {
   "cell_type": "markdown",
   "metadata": {},
   "source": [
    "Most of the billionaires live in places with large population densities. Population density is the amount of people per miles."
   ]
  },
  {
   "cell_type": "code",
   "execution_count": null,
   "metadata": {},
   "outputs": [],
   "source": [
    "# Create a boxplot with Matplotlib\n",
    "sns.boxplot(data=df, x=\"NetWorth\")\n",
    "plt.xlim(0,215)\n",
    "\n",
    "df.loc[df[\"Height_ft\"] == df[\"Height_ft\"].max()]"
   ]
  },
  {
   "cell_type": "markdown",
   "metadata": {},
   "source": [
    "### MEANING???/??"
   ]
  },
  {
   "cell_type": "code",
   "execution_count": null,
   "metadata": {},
   "outputs": [],
   "source": [
    "sns.boxplot(data=df, x=\"Total_Worth\")\n",
    "plt.xlim(-100,1680)"
   ]
  },
  {
   "cell_type": "markdown",
   "metadata": {},
   "source": [
    "### MEANING?????///??"
   ]
  },
  {
   "cell_type": "code",
   "execution_count": null,
   "metadata": {},
   "outputs": [],
   "source": [
    "df['NetWorth'].value_counts()"
   ]
  },
  {
   "cell_type": "code",
   "execution_count": null,
   "metadata": {},
   "outputs": [],
   "source": [
    "# Population density = number of people per square mile\n",
    "df.groupby('Region')[['Population_Density']].mean()\n"
   ]
  },
  {
   "cell_type": "code",
   "execution_count": null,
   "metadata": {},
   "outputs": [],
   "source": [
    "# Region with the densest population comparatively\n",
    "# 64% of the most dense populations are in Asia \n",
    "plt.figure(figsize=(50,8))\n",
    "plt.title(\"Height vs Speed\")\n",
    "data = [231.603513,4713.575292, 1974.857797, 380.417271,30.413450, 76.364517]\n",
    "keys = ['Africa', 'Asia', 'Europe', 'North America', 'Oceania', 'South America']\n",
    "plt.title(\"Population Density by Region\")\n",
    "plt.pie(data,labels=keys,autopct='%.0f%%')\n",
    "plt.show()"
   ]
  },
  {
   "cell_type": "code",
   "execution_count": null,
   "metadata": {},
   "outputs": [],
   "source": [
    "sns.kdeplot(data=df, x=\"NetWorth\", y='Name')\n"
   ]
  }
 ],
 "metadata": {
  "kernelspec": {
   "display_name": ".venv",
   "language": "python",
   "name": "python3"
  },
  "language_info": {
   "codemirror_mode": {
    "name": "ipython",
    "version": 3
   },
   "file_extension": ".py",
   "mimetype": "text/x-python",
   "name": "python",
   "nbconvert_exporter": "python",
   "pygments_lexer": "ipython3",
   "version": "3.10.0"
  }
 },
 "nbformat": 4,
 "nbformat_minor": 2
}
